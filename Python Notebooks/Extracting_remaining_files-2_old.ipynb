{
 "cells": [
  {
   "cell_type": "code",
   "execution_count": 1,
   "metadata": {},
   "outputs": [],
   "source": [
    "import numpy as np"
   ]
  },
  {
   "cell_type": "code",
   "execution_count": 3,
   "metadata": {},
   "outputs": [
    {
     "data": {
      "text/plain": [
       "array([1, 2, 3, 4, 5])"
      ]
     },
     "execution_count": 3,
     "metadata": {},
     "output_type": "execute_result"
    }
   ],
   "source": [
    "lst = [1,3,4,5]\n",
    "expected_lst = np.arange(1,5+1)\n",
    "expected_lst"
   ]
  },
  {
   "cell_type": "code",
   "execution_count": 4,
   "metadata": {},
   "outputs": [
    {
     "name": "stdout",
     "output_type": "stream",
     "text": [
      "2\n"
     ]
    }
   ],
   "source": [
    "for element in expected_lst:\n",
    "    if element not in lst:\n",
    "        print(element)"
   ]
  },
  {
   "cell_type": "code",
   "execution_count": null,
   "metadata": {},
   "outputs": [],
   "source": [
    "#for string array we need two strings for comparison\n",
    "lst = ['1','3','4','5']\n",
    "expected_lst = ['1','2','3','4','5']\n",
    "for element in expected_lst:\n",
    "    if element not in lst:\n",
    "        print(element)"
   ]
  },
  {
   "cell_type": "code",
   "execution_count": 3,
   "metadata": {},
   "outputs": [
    {
     "name": "stdout",
     "output_type": "stream",
     "text": [
      "['1998_2019_TRMM_DATA\\\\shapeMasked', 'scrubbed', 'TRMM_3B42_7_precipitation', '201909302100', 'nc']\n",
      "Extracted Date and Time: 201909302100\n"
     ]
    }
   ],
   "source": [
    "#lets generate for TRMM data\n",
    "file_name = \"1998_2019_TRMM_DATA\\shapeMasked.scrubbed.TRMM_3B42_7_precipitation.201909302100.nc\"\n",
    "\n",
    "# Split the file name using dot as delimiter\n",
    "file_parts = file_name.split(\".\")\n",
    "print(file_parts)\n",
    "# Access the last part (date and time)\n",
    "date_time_string = file_parts[-2]\n",
    "\n",
    "print(\"Extracted Date and Time:\", date_time_string)"
   ]
  },
  {
   "cell_type": "code",
   "execution_count": 4,
   "metadata": {},
   "outputs": [
    {
     "data": {
      "text/plain": [
       "str"
      ]
     },
     "execution_count": 4,
     "metadata": {},
     "output_type": "execute_result"
    }
   ],
   "source": [
    "type(date_time_string)"
   ]
  },
  {
   "cell_type": "code",
   "execution_count": 34,
   "metadata": {},
   "outputs": [],
   "source": [
    "file = open('Downloaded_Data_June_sept.txt','r')\n",
    "#access each line in the file\n",
    "Downloaded_data_list = []\n",
    "for line in file:\n",
    "    #split each line\n",
    "    line_split = line.split(\".\")\n",
    "    # print(line_split)\n",
    "    date_time = line_split[-2]\n",
    "    # print(date_time) it is a string format\n",
    "    #save in a list\n",
    "    Downloaded_data_list.append(date_time)\n"
   ]
  },
  {
   "cell_type": "code",
   "execution_count": null,
   "metadata": {},
   "outputs": [],
   "source": []
  }
 ],
 "metadata": {
  "kernelspec": {
   "display_name": "Python 3",
   "language": "python",
   "name": "python3"
  },
  "language_info": {
   "codemirror_mode": {
    "name": "ipython",
    "version": 3
   },
   "file_extension": ".py",
   "mimetype": "text/x-python",
   "name": "python",
   "nbconvert_exporter": "python",
   "pygments_lexer": "ipython3",
   "version": "3.11.4"
  },
  "orig_nbformat": 4
 },
 "nbformat": 4,
 "nbformat_minor": 2
}
