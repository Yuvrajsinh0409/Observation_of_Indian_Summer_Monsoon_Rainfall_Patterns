{
 "cells": [
  {
   "cell_type": "code",
   "execution_count": 1,
   "metadata": {},
   "outputs": [
    {
     "data": {
      "text/plain": [
       "0.57608694"
      ]
     },
     "execution_count": 1,
     "metadata": {},
     "output_type": "execute_result"
    }
   ],
   "source": [
    "# through this we can get a mean value of index output, on which we can decide our alpha and determine the hypotheses\n",
    "# determine for every year, try plotting a graph (rough)\n",
    "\n",
    "import xarray as xr\n",
    "import numpy as np \n",
    "import matplotlib.pyplot as plt\n",
    "# lst_files = ['./1998_ecar10mm_output.nc','']\n",
    "\n",
    "ds_stacked = xr.open_dataset('./2005_ecar10mm_output.nc')\n",
    "# ds_stacked.info()\n",
    "val = ds_stacked['heavy_precipitation_days_index_per_time_period']\n",
    "# val.plot()\n",
    "val = val.values\n",
    "np.nanmean(val)"
   ]
  },
  {
   "cell_type": "code",
   "execution_count": 1,
   "metadata": {},
   "outputs": [
    {
     "data": {
      "text/plain": [
       "[0.00082034455,\n",
       " 0.67350286,\n",
       " 0.57875305,\n",
       " 0.41324857,\n",
       " 0.38966367,\n",
       " 0.5002051,\n",
       " 0.49220672,\n",
       " 0.57608694,\n",
       " 0.73687446,\n",
       " 0.7116489,\n",
       " 0.56316656,\n",
       " 0.47436422,\n",
       " 0.6763741,\n",
       " 0.6132075,\n",
       " 0.5801887,\n",
       " 0.6611977,\n",
       " 0.48769483,\n",
       " 0.4409352,\n",
       " 0.41058245,\n",
       " 0.42883512,\n",
       " 0.43416736,\n",
       " 0.6158737]"
      ]
     },
     "execution_count": 1,
     "metadata": {},
     "output_type": "execute_result"
    }
   ],
   "source": [
    "# for heavy precipitation above 10 mm\n",
    "import xarray as xr\n",
    "import numpy as np \n",
    "import matplotlib.pyplot as plt\n",
    "lst_mean = []\n",
    "lst_files = ['./1998_ecar10mm_output.nc','./1999_ecar10mm_output.nc','./2000_ecar10mm_output.nc','./2001_ecar10mm_output.nc','./2002_ecar10mm_output.nc','./2003_ecar10mm_output.nc','./2004_ecar10mm_output.nc','./2005_ecar10mm_output.nc','./2006_ecar10mm_output.nc','./2007_ecar10mm_output.nc','./2008_ecar10mm_output.nc','./2009_ecar10mm_output.nc','./2010_ecar10mm_output.nc','./2011_ecar10mm_output.nc','./2012_ecar10mm_output.nc','./2013_ecar10mm_output.nc','./2014_ecar10mm_output.nc','./2015_ecar10mm_output.nc','./2016_ecar10mm_output.nc','./2017_ecar10mm_output.nc','./2018_ecar10mm_output.nc','./2019_ecar10mm_output.nc']\n",
    "for files in lst_files: \n",
    "    ds_stacked = xr.open_dataset(files)\n",
    "    # ds_stacked.info()\n",
    "    val = ds_stacked['heavy_precipitation_days_index_per_time_period']\n",
    "    # val.plot()\n",
    "    val = val.values\n",
    "    lst_mean.append(np.nanmean(val))\n",
    "lst_mean"
   ]
  },
  {
   "cell_type": "code",
   "execution_count": 5,
   "metadata": {},
   "outputs": [
    {
     "name": "stdout",
     "output_type": "stream",
     "text": [
      "xarray.Dataset {\n",
      "dimensions:\n",
      "\ttime = 1 ;\n",
      "\tlat = 289 ;\n",
      "\tlon = 294 ;\n",
      "\tlatv = 2 ;\n",
      "\tlonv = 2 ;\n",
      "\tnv = 2 ;\n",
      "\n",
      "variables:\n",
      "\tfloat32 GPM_3IMERGHHE_06_precipitationCal(time, lat, lon) ;\n",
      "\t\tGPM_3IMERGHHE_06_precipitationCal:DimensionNames = time,lon,lat ;\n",
      "\t\tGPM_3IMERGHHE_06_precipitationCal:Units = mm/hr ;\n",
      "\t\tGPM_3IMERGHHE_06_precipitationCal:CodeMissingValue = -9999.9 ;\n",
      "\t\tGPM_3IMERGHHE_06_precipitationCal:origname = precipitationCal ;\n",
      "\t\tGPM_3IMERGHHE_06_precipitationCal:fullnamepath = /Grid/precipitationCal ;\n",
      "\t\tGPM_3IMERGHHE_06_precipitationCal:standard_name = precipitationcal ;\n",
      "\t\tGPM_3IMERGHHE_06_precipitationCal:quantity_type = Precipitation ;\n",
      "\t\tGPM_3IMERGHHE_06_precipitationCal:product_short_name = GPM_3IMERGHHE ;\n",
      "\t\tGPM_3IMERGHHE_06_precipitationCal:product_version = 06 ;\n",
      "\t\tGPM_3IMERGHHE_06_precipitationCal:long_name = Multi-satellite precipitation estimate with climatological gauge calibration - Early Run ;\n",
      "\t\tGPM_3IMERGHHE_06_precipitationCal:units = mm/hr ;\n",
      "\tfloat32 lat(lat) ;\n",
      "\t\tlat:DimensionNames = lat ;\n",
      "\t\tlat:Units = degrees_north ;\n",
      "\t\tlat:units = degrees_north ;\n",
      "\t\tlat:LongName = Latitude at the center of\n",
      "\t\t\t0.10 degree grid intervals of latitude\n",
      "\t\t\tfrom -90 to 90. ;\n",
      "\t\tlat:axis = Y ;\n",
      "\t\tlat:origname = lat ;\n",
      "\t\tlat:fullnamepath = /Grid/lat ;\n",
      "\t\tlat:standard_name = latitude ;\n",
      "\t\tlat:bounds = lat_bnds ;\n",
      "\tfloat64 lat_bnds(lat, latv) ;\n",
      "\t\tlat_bnds:units = degrees_north ;\n",
      "\tfloat32 lon(lon) ;\n",
      "\t\tlon:DimensionNames = lon ;\n",
      "\t\tlon:Units = degrees_east ;\n",
      "\t\tlon:units = degrees_east ;\n",
      "\t\tlon:LongName = Longitude at the center of\n",
      "\t\t\t0.10 degree grid intervals of longitude \n",
      "\t\t\tfrom -180 to 180. ;\n",
      "\t\tlon:axis = X ;\n",
      "\t\tlon:origname = lon ;\n",
      "\t\tlon:fullnamepath = /Grid/lon ;\n",
      "\t\tlon:standard_name = longitude ;\n",
      "\t\tlon:bounds = lon_bnds ;\n",
      "\tfloat64 lon_bnds(lon, lonv) ;\n",
      "\t\tlon_bnds:units = degrees_east ;\n",
      "\tobject time(time) ;\n",
      "\t\ttime:DimensionNames = time ;\n",
      "\t\ttime:LongName = Representative time of data in \n",
      "\t\t\tseconds since 1970-01-01 00:00:00 UTC. ;\n",
      "\t\ttime:Units = seconds since 1970-01-01 00:00:00 UTC ;\n",
      "\t\ttime:axis = T ;\n",
      "\t\ttime:bounds = time_bnds ;\n",
      "\t\ttime:fullnamepath = /Grid/time ;\n",
      "\t\ttime:origname = time ;\n",
      "\t\ttime:standard_name = time ;\n",
      "\tobject time_bnds(time, nv) ;\n",
      "\t\ttime_bnds:DimensionNames = time,nv ;\n",
      "\t\ttime_bnds:Units = seconds since 1970-01-01 00:00:00 UTC ;\n",
      "\t\ttime_bnds:coordinates = time nv ;\n",
      "\t\ttime_bnds:origname = time_bnds ;\n",
      "\t\ttime_bnds:fullnamepath = /Grid/time_bnds ;\n",
      "\t\ttime_bnds:standard_name = time_bnds ;\n",
      "\tfloat64 shape_mask(time, lat, lon) ;\n",
      "\n",
      "// global attributes:\n",
      "\t:NCO = netCDF Operators version 5.0.6 (Homepage = http://nco.sf.net, Code = http://github.com/nco/nco) ;\n",
      "\t:nco_openmp_thread_number = 1 ;\n",
      "\t:Conventions = CF-1.4 ;\n",
      "\t:start_time = 2019-06-01T00:00:00Z ;\n",
      "\t:end_time = 2019-06-01T00:30:00Z ;\n",
      "\t:temporal_resolution = half-hourly ;\n",
      "\t:history = Sun Aug 27 17:13:18 2023: ncks -d lat,6.652917,35.611246 -d lon,68.062386,97.495359 /var/giovanni/session/F4FCA8D0-2944-11EE-9D50-73DD2C4E3399/BFBEB270-44FC-11EE-B14C-7BCB7594AF8C/BFC5907C-44FC-11EE-B14C-7BCB7594AF8C///scrubbed.GPM_3IMERGHHE_06_precipitationCal.20190601000000.nc /var/giovanni/session/F4FCA8D0-2944-11EE-9D50-73DD2C4E3399/BFBEB270-44FC-11EE-B14C-7BCB7594AF8C/BFC5907C-44FC-11EE-B14C-7BCB7594AF8C/shapeMasked.scrubbed.GPM_3IMERGHHE_06_precipitationCal.20190601000000.nc ;\n",
      "}"
     ]
    }
   ],
   "source": [
    "ds_stacked.info()"
   ]
  },
  {
   "cell_type": "code",
   "execution_count": 2,
   "metadata": {},
   "outputs": [
    {
     "name": "stdout",
     "output_type": "stream",
     "text": [
      "Kendall's Tau: 0.911111111111111\n",
      "P-Value: 2.9761904761904762e-05\n"
     ]
    }
   ],
   "source": [
    "import numpy as np\n",
    "from scipy.stats import kendalltau\n",
    "\n",
    "# Your data (replace with your actual data)\n",
    "data = [10, 12, 8, 15, 18, 22, 25, 28, 26, 30]\n",
    "\n",
    "# Create an array of ranks for the data\n",
    "ranked_data = np.argsort(data)\n",
    "\n",
    "# Calculate Kendall's Tau statistic and p-value\n",
    "tau, p_value = kendalltau(data, ranked_data)\n",
    "\n",
    "# Print the results\n",
    "print(f\"Kendall's Tau: {tau}\")\n",
    "print(f\"P-Value: {p_value}\")\n",
    "\n",
    "# Interpret the results based on the p-value and tau value\n",
    "\n"
   ]
  },
  {
   "cell_type": "code",
   "execution_count": 6,
   "metadata": {},
   "outputs": [
    {
     "name": "stdout",
     "output_type": "stream",
     "text": [
      "Kendall's Tau: 0.9999999999999999\n",
      "P-Value: 0.016666666666666666\n"
     ]
    }
   ],
   "source": [
    "# for one file\n",
    "# do this for every output file, calculate p_value, store in an array/lis and pass it to the kendall test to determine hypothesis\n",
    "\n",
    "import numpy as np\n",
    "from scipy.stats import kendalltau\n",
    "\n",
    "# Your data (replace with your actual data)\n",
    "data = lst_mean\n",
    "\n",
    "# Create an array of ranks for the data\n",
    "ranked_data = np.argsort(data)\n",
    "\n",
    "# Calculate Kendall's Tau statistic and p-value\n",
    "tau, p_value = kendalltau(data, ranked_data)\n",
    "\n",
    "# Print the results\n",
    "print(f\"Kendall's Tau: {tau}\")\n",
    "print(f\"P-Value: {p_value}\")\n",
    "\n",
    "# Interpret the results based on the p-value and tau value\n"
   ]
  },
  {
   "cell_type": "code",
   "execution_count": 3,
   "metadata": {},
   "outputs": [
    {
     "data": {
      "image/png": "[encoded data removed]",
      "text/plain": [
       "<Figure size 1000x500 with 1 Axes>"
      ]
     },
     "metadata": {},
     "output_type": "display_data"
    }
   ],
   "source": [
    "import numpy as np\n",
    "import matplotlib.pyplot as plt\n",
    "\n",
    "# Define a range of p-values (e.g., from 0 to 0.1)\n",
    "p_values = np.linspace(0, 0.1, 100)\n",
    "\n",
    "# Define the alpha level (e.g., 0.05)\n",
    "alpha = 0.05\n",
    "\n",
    "# Create an array to store the test outcomes (0 for fail to reject, 1 for reject)\n",
    "test_outcomes = np.where(p_values < alpha, 1, 0)\n",
    "\n",
    "# Create a plot\n",
    "plt.figure(figsize=(10, 5))\n",
    "plt.plot(p_values, test_outcomes, label=f'Alpha = {alpha}', color='blue', lw=2)\n",
    "\n",
    "# Highlight the region where null hypothesis is rejected (shaded area)\n",
    "plt.fill_between(p_values, 0, test_outcomes, where=(test_outcomes == 1), color='green', alpha=0.5)\n",
    "\n",
    "# Add labels and title\n",
    "plt.xlabel('p-Value')\n",
    "plt.ylabel('Hypothesis Test Outcome')\n",
    "plt.title('Impact of p-Value on Hypothesis Testing')\n",
    "\n",
    "# Add a legend\n",
    "plt.legend()\n",
    "\n",
    "# Show the plot\n",
    "plt.grid()\n",
    "plt.show()\n"
   ]
  },
  {
   "cell_type": "code",
   "execution_count": null,
   "metadata": {},
   "outputs": [],
   "source": []
  }
 ],
 "metadata": {
  "kernelspec": {
   "display_name": "Python 3",
   "language": "python",
   "name": "python3"
  },
  "language_info": {
   "codemirror_mode": {
    "name": "ipython",
    "version": 3
   },
   "file_extension": ".py",
   "mimetype": "text/x-python",
   "name": "python",
   "nbconvert_exporter": "python",
   "pygments_lexer": "ipython3",
   "version": "3.11.4"
  },
  "orig_nbformat": 4
 },
 "nbformat": 4,
 "nbformat_minor": 2
}
