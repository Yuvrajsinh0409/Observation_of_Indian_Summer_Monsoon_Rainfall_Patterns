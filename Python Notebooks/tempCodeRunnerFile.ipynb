 = xr.open_dataset(f'./GPM_{year}_00_half_hourly_testing.nc')
    print